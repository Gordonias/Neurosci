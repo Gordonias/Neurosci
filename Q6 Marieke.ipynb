{
 "cells": [
  {
   "cell_type": "code",
   "execution_count": null,
   "metadata": {},
   "outputs": [],
   "source": [
    "nParticipants = 21\n",
    "\n",
    "for participant in range(nParticipants):\n",
    "    for trial in range (nTrials):\n",
    "        for channel in range(nChans):\n",
    "            curr_signal = comb_data_norm_control[participant][trial][channel]\n",
    "            for window in range(nWindows):\n",
    "                curr_start = int(window_starts[window])\n",
    "                curr_stop = int(curr_start + N)\n",
    "                curr_window = curr_signal[curr_start:curr_stop]\n",
    "            if len(curr_window) != N:\n",
    "                print(\"window length: {len(curr_window)}, N: {N}, equal? {len(curr_window) == N}\")\n",
    "            tmp_ps = fft.rfft(curr_signal[:N])\n",
    "            TFR_5D_control[participant][trial][channel] = tmp_ps\n",
    "print(TFR_5D_control.shape)\n"
   ]
  }
 ],
 "metadata": {
  "kernelspec": {
   "display_name": "Python 3",
   "language": "python",
   "name": "python3"
  },
  "language_info": {
   "codemirror_mode": {
    "name": "ipython",
    "version": 3
   },
   "file_extension": ".py",
   "mimetype": "text/x-python",
   "name": "python",
   "nbconvert_exporter": "python",
   "pygments_lexer": "ipython3",
   "version": "3.8.3"
  }
 },
 "nbformat": 4,
 "nbformat_minor": 4
}
