{
 "cells": [
  {
   "cell_type": "markdown",
   "metadata": {},
   "source": [
    "# Cognitive Neuroscience: Group Project\n",
    "\n",
    "## Final Group Project Code Instructions\n",
    "\n",
    "Marijn van Wingerden, Department of Cognitive Science and Artificial Intelligence – Tilburg University Academic Year 2020-2021"
   ]
  },
  {
   "cell_type": "markdown",
   "metadata": {},
   "source": [
    "In this Jupyter Notebook, you will find the programmatic instructions to complete the Group Project. \n",
    "\n",
    "You will analyse a subset of the trials and conditions from the RITA dataset, as introduced by dr. Roncaglia in the second week of class. Your time-resolved analysis, using the FFT and baseline averaging, will be performed across ALL subjects in a group (Monolinguals, Early Learners, Late Learners) in the dataset, and look for oscillatory activity in relation to the onset of the **critical item** in each sentence (the auxilary verb).\n",
    "\n",
    "You will inspect activity in the following frequency bands:\n",
    "- Delta (1-4 Hz)\n",
    "- Theta (4-8 Hz)\n",
    "- Alpha (8-12 Hz)\n",
    "- Beta (15-25 Hz)\n",
    "- low Gamma (30-60 Hz)\n",
    "- high Gamma (60-100 Hz)\n",
    "(different cutoffs points can be found in the literature, we are sticking with these for convenience)\n",
    "\n",
    "All relevant methods have been covered in Worksheets 1-7, with the exception of loading multiple datafiles. Whenever a new method/function is introduced here, it will come with an example.\n"
   ]
  },
  {
   "cell_type": "markdown",
   "metadata": {},
   "source": [
    "## Datafiles - assignment per group\n",
    "\n",
    "Each group will analyze one set of filler sentences (NA: Non-Ambiguous sentences) and a set of experimental sentences (AM: Ambiguous sentences). The conditions in the dataset are split over groups in the following way:\n",
    "\n",
    "- SF: subject-first\n",
    "- OF: object-first\n",
    "- IR: irregular rhythm\n",
    "- RR: regular rhythm\n",
    "\n",
    "- Monolinguals: RM\n",
    "    - Groups 01 + 02: SFIR triggers XX1 and XX5\n",
    "    - Groups 03 + 04: SFRR triggers XX2 and XX6\n",
    "    - Groups 05 + 06: OFIR triggers XX3 and XX7\n",
    "    - Groups 07 + 08: OFRR triggers XX4 and XX8\n",
    "- Early Learners: RB\n",
    "    - Groups 09 + 10: SFIR triggers XX1 and XX5\n",
    "    - Groups 11 + 12: SFRR triggers XX2 and XX6\n",
    "    - Groups 13 + 14: OFIR triggers XX3 and XX7\n",
    "    - Groups 15 + 16: OFRR triggers XX4 and XX8\n",
    "- Late Learners: RL\n",
    "    - Groups 17 + 18: SFIR triggers XX1 and XX5\n",
    "    - Groups 19 + 20: SFRR triggers XX2 and XX6\n",
    "    - Groups 21 + 22: OFIR triggers XX3 and XX7\n",
    "    - Groups 23 + 24: OFRR triggers XX4 and XX8\n",
    "\n",
    "- Odd groups:\n",
    "analyse the odd trials in the dataset\n",
    "- Even groups:\n",
    "analyse the even trials in the dataset\n",
    "\n",
    "You can download the datafiles from: https://surfdrive.surf.nl/files/index.php/s/JcA9speED020q4p\n"
   ]
  },
  {
   "cell_type": "markdown",
   "metadata": {},
   "source": [
    "## Handing in of your code\n",
    "\n",
    "You can adapt this script template and hand it in as the code component of your Group Assignment Report.\n",
    "\n",
    "Whenever you are asked to make a plot, it should be completed with a meaningful plot title, xlabel and ylabel texts. Figures are started with a Matplotlib figure handle: \"fig_Q2A, ax = plt.subplots;\". This indicates that a link (called handle) to your figure will be saved in the variable, so we can easily check it when checking your scripts. Whenever a naming convention for a variable is given, use it, because it will allow semi-automatic grading of your project script.\n",
    "\n",
    "### Intermediate hand-in\n",
    "\n",
    "You will be able to hand in a script/notebook with your solutions to Q1-3 after the midterms, and the correct solution will be discussed in class to give you some feedback on how the Group Project is evaluated. Groups that do not hand in their solutions to Q1-3 will receive half of the total points available for these questions by default. "
   ]
  },
  {
   "cell_type": "markdown",
   "metadata": {},
   "source": [
    "## Group members:\n",
    "\n",
    "Please list the contributors and their U-numbers here in comments:\n",
    "\n",
    "- Emil Anker Wiik\n",
    "- Gordon Arscott\n",
    "- Nina Ella Gjessing\n",
    "- Louis Dowden\n",
    "- Babette Scheepers"
   ]
  },
  {
   "cell_type": "markdown",
   "metadata": {},
   "source": [
    "## Setting up: list your modules to import\n",
    "For loading/saving puroposes, we will make use of the **os** package.\n",
    "An example worksheet with instructions on how to use the os package will be provided"
   ]
  },
  {
   "cell_type": "code",
   "execution_count": 1,
   "metadata": {},
   "outputs": [],
   "source": [
    "#%matplotlib inline\n",
    "\n",
    "import numpy as np\n",
    "import os\n",
    "\n",
    "#The OS module in Python provides functions for interacting with the operating system.\n",
    "#OS comes under Python's standard utility modules.\n",
    "#This module provides a portable way of using operating system-dependent functionality.\n",
    "#The *os* and *os. path* modules include many functions to interact with the file system\n",
    "\n",
    "#os.getcwd() #check the directory\n",
    "#os.mkdir(\"C:\\MyPythonProject\") #create a directory\n",
    "#os.chdir(\"C:\\MyPythonProject\") #change the directory\n",
    "#os.listdir(\"c:\\python37\") #returns list of files in the directory\n",
    "\n",
    "#os.path.join() method in Python join one or more path components intelligently.\n",
    "#This method concatenates various path components with exactly one directory separator (‘/’)\n",
    "#following each non-empty part except the last path component.\n",
    "#If the last path component to be joined is empty then a directory seperator (‘/’) is put at the end."
   ]
  },
  {
   "cell_type": "markdown",
   "metadata": {},
   "source": [
    "## Data loading\n",
    "We will need to load the datafiles from all participants and add them all together so that we end up with a matrix that has nChannels x nTime x nParticipants (instead of trials). You can make your work easier by organising the datafiles in such a way that you put the control.npy files in their own subdirectory, and the experimental.npy files as well. \n",
    "\n",
    "In order to load the files, we can use the os package.\n",
    "\n",
    "Adapt the following so that it works on your machine:"
   ]
  },
  {
   "cell_type": "code",
   "execution_count": 2,
   "metadata": {},
   "outputs": [
    {
     "name": "stdout",
     "output_type": "stream",
     "text": [
      "True\n"
     ]
    },
    {
     "data": {
      "text/plain": [
       "(['group_12_part_01_control.npy',\n",
       "  'group_12_part_02_control.npy',\n",
       "  'group_12_part_03_control.npy',\n",
       "  'group_12_part_04_control.npy',\n",
       "  'group_12_part_05_control.npy',\n",
       "  'group_12_part_06_control.npy',\n",
       "  'group_12_part_07_control.npy',\n",
       "  'group_12_part_08_control.npy',\n",
       "  'group_12_part_09_control.npy',\n",
       "  'group_12_part_10_control.npy',\n",
       "  'group_12_part_11_control.npy',\n",
       "  'group_12_part_12_control.npy',\n",
       "  'group_12_part_13_control.npy',\n",
       "  'group_12_part_14_control.npy',\n",
       "  'group_12_part_15_control.npy',\n",
       "  'group_12_part_16_control.npy',\n",
       "  'group_12_part_17_control.npy',\n",
       "  'group_12_part_18_control.npy',\n",
       "  'group_12_part_19_control.npy',\n",
       "  'group_12_part_20_control.npy',\n",
       "  'group_12_part_21_control.npy',\n",
       "  'group_12_part_22_control.npy'],\n",
       " ['group_12_part_01_experimental.npy',\n",
       "  'group_12_part_02_experimental.npy',\n",
       "  'group_12_part_03_experimental.npy',\n",
       "  'group_12_part_04_experimental.npy',\n",
       "  'group_12_part_05_experimental.npy',\n",
       "  'group_12_part_06_experimental.npy',\n",
       "  'group_12_part_07_experimental.npy',\n",
       "  'group_12_part_08_experimental.npy',\n",
       "  'group_12_part_09_experimental.npy',\n",
       "  'group_12_part_10_experimental.npy',\n",
       "  'group_12_part_11_experimental.npy',\n",
       "  'group_12_part_12_experimental.npy',\n",
       "  'group_12_part_13_experimental.npy',\n",
       "  'group_12_part_14_experimental.npy',\n",
       "  'group_12_part_15_experimental.npy',\n",
       "  'group_12_part_16_experimental.npy',\n",
       "  'group_12_part_17_experimental.npy',\n",
       "  'group_12_part_18_experimental.npy',\n",
       "  'group_12_part_19_experimental.npy',\n",
       "  'group_12_part_20_experimental.npy',\n",
       "  'group_12_part_21_experimental.npy',\n",
       "  'group_12_part_22_experimental.npy'])"
      ]
     },
     "execution_count": 2,
     "metadata": {},
     "output_type": "execute_result"
    }
   ],
   "source": [
    "path_control = \"./group_12_control\"\n",
    "path_experimental = \"./group_12_experimental\"\n",
    "\n",
    "control_files = os.listdir(path_control)\n",
    "experimental_files = os.listdir(path_experimental)\n",
    "\n",
    "# check that the length of your files list matches the provided datafiles, and contains only .npy datafiles\n",
    "\n",
    "if len(control_files) and len(experimental_files) == 22:\n",
    "    print(True)\n",
    "\n",
    "os.listdir(path_control), os.listdir(path_experimental)"
   ]
  },
  {
   "cell_type": "markdown",
   "metadata": {},
   "source": [
    "## Combining data and matrix pre-allocation\n",
    "next, you will need to load these files one by one and extract the data for this participant. \n",
    "The data in the NumPy arrays are stored as Trials x Channels x Time. To aggregate across participants, you will thus need to add a 4th dimension to store the data.\n",
    "\n",
    "To be able to adequately pre-allocate the data from the different subjects, we will load one trial subject manually to have a look at the shape/dimensionality of the data:"
   ]
  },
  {
   "cell_type": "code",
   "execution_count": 3,
   "metadata": {},
   "outputs": [
    {
     "data": {
      "text/plain": [
       "(22, 64, 751)"
      ]
     },
     "execution_count": 3,
     "metadata": {},
     "output_type": "execute_result"
    }
   ],
   "source": [
    "EEG = np.load(os.path.join(path_control,control_files[0]))\n",
    "              \n",
    "# control_files is a list of strings, so indexing its first element returns a string\n",
    "# in this case, we are loading the first entry of control_files, i.e. participant 1\n",
    "\n",
    "# verify that the number of trials equals 22, \n",
    "# verify that the number of channels equals 64 or 65 \n",
    "# and verify that there are 751 samples per trace\n",
    "\n",
    "np.shape(EEG)\n",
    "#(Trials, Channels, Time)\n"
   ]
  },
  {
   "cell_type": "markdown",
   "metadata": {},
   "source": [
    "## Q1 - setting up the data structure and loading data from all participants\n",
    "\n",
    "The EEG data is currently stored as a 3-dimensional NumPy array. But to run our time-frequency analysis, we need some more information like the sampling rate and the time axis that corresponds to the stimulus-locked analysis window. In order to set up (=pre-allocate) a matrix that will hold all traces for all participants, we need to know the sizes of the dimensions of this 4-dimensional matrix, and fill up this matrix by looping over participants:"
   ]
  },
  {
   "cell_type": "code",
   "execution_count": 4,
   "metadata": {},
   "outputs": [
    {
     "data": {
      "text/plain": [
       "(22, 58, 751)"
      ]
     },
     "execution_count": 4,
     "metadata": {},
     "output_type": "execute_result"
    }
   ],
   "source": [
    "#Both of these parts are important\n",
    "control = np.load(os.path.join(path_control,control_files[0]))\n",
    "control = control[:,0:58]                \n",
    "# control_files is a list of strings, so indexing its first element returns a string\n",
    "# in this case, we are loading the first entry of control_files, i.e. participant 1\n",
    "\n",
    "# verify that the number of trials equals 22, \n",
    "# verify that the number of channels equals 64 or 65 \n",
    "# and verify that there are 751 samples per trace\n",
    "\n",
    "np.shape(control)\n",
    "#print(EEG)"
   ]
  },
  {
   "cell_type": "code",
   "execution_count": 25,
   "metadata": {
    "scrolled": true
   },
   "outputs": [
    {
     "name": "stdout",
     "output_type": "stream",
     "text": [
      "22\n",
      "58\n",
      "22\n"
     ]
    },
    {
     "data": {
      "text/plain": [
       "(22, 58, 751, 22)"
      ]
     },
     "execution_count": 25,
     "metadata": {},
     "output_type": "execute_result"
    }
   ],
   "source": [
    "#Here is my code that works kinda.\n",
    "\n",
    "# There are 64 or 65 channels in the dataset. Only channels up to channel 59 are EEG channels\n",
    "# the remaining channels are EMG and EOG channels that we will ignore in this analysis\n",
    "# subset your EEG array so that only the EEG channels remain\n",
    "\n",
    "\n",
    "def participantapplier(participant):\n",
    "    EEG = np.load(os.path.join(path_control,control_files[participant]))\n",
    "    EEG = EEG[:,0:58]\n",
    "    return[EEG]\n",
    "\n",
    "# Define nTrials, nChan, nSamples and nPart. Then, pre-allocate a matrix\n",
    "# named comb_data, filled with zeros and with size nTrials, nChans x nSamples x nParticipants\n",
    "EEG = control\n",
    "Trials = EEG[:]\n",
    "nTrials = len(Trials)\n",
    "print(nTrials)\n",
    "Chans = EEG[0]\n",
    "nChans = len(Chans) # number of channels\n",
    "print(nChans)\n",
    "nSamples = EEG.shape[2]\n",
    "#nSamples = (len(Samples))\n",
    "#print(Samples)\n",
    "Parts = control_files\n",
    "nParts = len(Parts)\n",
    "print(nParts)\n",
    "comb_data = np.zeros((nTrials, nChans, nSamples, nParts))\n",
    "np.shape(comb_data)\n",
    "\n",
    "# next, we need to loop over all participant datafiles and add them to the appropriate slice in your 4-D array\n",
    "# For this, you need to use specific array indexing to indicate where in comb_data each participant's data\n",
    "# needs to go. You can and should reuse the data-reading code above.\n",
    "\n",
    "# loop over participants, and wihtin each iteration of the loop, load the\n",
    "# next datafile and fill comb_data with the EEG traces (nTrials x nChans x nSamples)\n",
    "\n",
    "#for index, x in enumerate(Parts):\n",
    "    #datP = participantapplier(index)\n",
    "    #np.shape(datP)\n",
    "    #fuckt = datP[:]\n",
    "    #fuckc = datP[0]\n",
    "    #fuckt2 = fuckc[0]\n",
    "    #fuckc3 = fuckt2[0]\n",
    "    #chans = datP[0]\n",
    "    #fucker = datP[index:]\n",
    "    #fucker[index:] = chans\n",
    "    \n",
    "    #comb_data[] = index:fuckc3,fuckt2,fuckc\n",
    "#np.shape(fuckc3)\n",
    "#np.shape(fucker)\n",
    "#np.shape(comb_data)\n",
    "    \n",
    "        \n",
    "#for index, x in enumerate(Parts):\n",
    "    #datP = participantapplier(index)[0]\n",
    "    #np.shape(datP)\n",
    "    #chans = datP[0]\n",
    "    #fucker = datP[index:]\n",
    "    #fucker[index:] = chans\n",
    "   #comb_data[x::] = datP\n",
    "#np.shape(datP)\n",
    "#np.shape(fucker)\n",
    "#np.shape(comb_data)\n",
    "\n",
    "for index, x in enumerate(Parts):\n",
    "    datP = participantapplier(index)\n",
    "    np.shape(datP)\n",
    "    chans = datP[0]\n",
    "    chans = np.expand_dims(chans, axis=3)\n",
    "    comb_data = comb_data[:] + chans\n",
    "#np.shape(datP)\n",
    "#np.shape(fucker)\n",
    "np.shape(comb_data)\n",
    "\n",
    "\n",
    "\n",
    "#for x in range(nParts):\n",
    "    #comb_data[x] = participantapplier(x)\n",
    "    \n",
    "# caution - multiple lines of code might be needed"
   ]
  },
  {
   "cell_type": "markdown",
   "metadata": {},
   "source": [
    "## Q2 - explore the data\n",
    "\n",
    "Let's explore this newly combined dataset a little bit. This sections fo EEG traces in your dataset have been taken with a [-0.5s, 1s] window aroun the relevant event. What's more, each trace has been averaged to its baseline period, so that the mean amplitude should be 0 (with some rounding error). \n",
    "\n",
    "To verify, first, determine the mean for the time period of -0.5 to 0 seconds. Given that the srate = 500 Hz, the baseline period corresponds to the first 250 samples\n",
    "- subset your combined data to only the first 250 samples\n",
    "- select a random participant and sunset the data further to only this participant\n",
    "- select a random EEG channel and subset the data further to only this channel\n",
    "\n",
    "This should leave you with a nTrials x 250 (samples) matrix. Create a similar evoked matrix with the remainder of the samples. With these matrices:\n",
    "- plot the traces for all trials in the **baseline** matrix (use transpose if necessary). \n",
    "- calculate the mean for each trace:\n",
    "    - once for the baseline period\n",
    "    - once for the remainder of the trial\n",
    "- plot these values (N= nTrials, check) in a histogram, each in their own subplot\n",
    "\n",
    "Refer to Worksheet 1 for example uses of **np.mean**. np.std works in a similar way"
   ]
  },
  {
   "cell_type": "code",
   "execution_count": 56,
   "metadata": {
    "scrolled": true
   },
   "outputs": [
    {
     "data": {
      "text/plain": [
       "(249, 22)"
      ]
     },
     "execution_count": 56,
     "metadata": {},
     "output_type": "execute_result"
    }
   ],
   "source": [
    "from random import randint\n",
    "baseline_period = comb_data[:,:,0:249]\n",
    "np.shape(baseline_period)\n",
    "\n",
    "RpartGenerator = randint(0,nParts)\n",
    "RpartData = baseline_period[RpartGenerator]\n",
    "RchanGenerator = randint(0,57)\n",
    "RchanData = RpartData[RchanGenerator]\n",
    "#np.shape(RpartData)\n",
    "#baseline_mean = \n",
    "#evoked_mean = ...\n",
    "np.shape(RchanData)"
   ]
  },
  {
   "cell_type": "code",
   "execution_count": 52,
   "metadata": {},
   "outputs": [
    {
     "ename": "SyntaxError",
     "evalue": "invalid syntax (<ipython-input-52-4ecc86bb5a82>, line 7)",
     "output_type": "error",
     "traceback": [
      "\u001b[1;36m  File \u001b[1;32m\"<ipython-input-52-4ecc86bb5a82>\"\u001b[1;36m, line \u001b[1;32m7\u001b[0m\n\u001b[1;33m    baseline_mean =\u001b[0m\n\u001b[1;37m                    ^\u001b[0m\n\u001b[1;31mSyntaxError\u001b[0m\u001b[1;31m:\u001b[0m invalid syntax\n"
     ]
    }
   ],
   "source": [
    "from random import randint\n",
    "baseline_period = comb_data[2:,0:249]\n",
    "np.shape(baseline_period)\n",
    "\n",
    "Rparts = randint(0,len(nParts))\n",
    "\n",
    "baseline_mean = \n",
    "evoked_mean = ...\n",
    "\n",
    "# now plot these three histograms using the subplot given\n",
    "fig_Q2A, ax = plt.subplots(figsize=(8,3), nrows=1, ncols=3) # 1x3 graph\n",
    "\n",
    "# plot the traces in ax[0]\n",
    "\n",
    "##\n",
    "## your code here\n",
    "##\n",
    "\n",
    "# plot the baseline mean in ax[1] with this code\n",
    "ax[1].hist(baseline_mean)\n",
    "plt.axes(ax[1])\n",
    "plt.title('Baseline means')\n",
    "ax[1].set_xlabel('Mean voltage')\n",
    "ax[1].set_ylabel('count')\n",
    "\n",
    "# plot the evoked mean in ax[2] with this code\n",
    "ax[2].hist(evoked_mean)\n",
    "plt.axes(ax[2])\n",
    "plt.title('Evoked means')\n",
    "ax[2].set_xlabel('Mean voltage')\n",
    "ax[2].set_ylabel('count')\n",
    "\n"
   ]
  },
  {
   "cell_type": "markdown",
   "metadata": {},
   "source": [
    "Looking at theses histograms, you should see that the distribution of evoked mean values can vary: while EEG recordings are referenced to a common ground, and usualy then re-referenced to the global average, we are dealing here with specific cutouts of EEG traces around specific events in the dataset. The data has been normalised to the baseline window for each trial, but the mean of the evoked part is not controlled. In addition, there might be differences in the size of the amplitudes between channels and between participants due to differences in conductivity.\n",
    "\n",
    "Illustrate that this global averaging does not guarantee equal variance. Reuse the baseline and evoked subsets:\n",
    "- Compute, instead of the mean across samples, the standard deviation (numpy.std or variants)\n",
    "- calculate the mean for each trace:\n",
    "    - once for the baseline period\n",
    "    - once for the remainder of the trial\n",
    "- Adapt the plotting code for Q2A and plot these distributions of standard deviations in figure Q2B."
   ]
  },
  {
   "cell_type": "code",
   "execution_count": null,
   "metadata": {},
   "outputs": [],
   "source": [
    "baseline_std = ...\n",
    "evoked_std = ...\n",
    "\n",
    "fig_Q2B, ax = plt.subplots(figsize=(8,3), nrows=1, ncols=3) # don't forget proper plot annotation\n",
    "\n",
    "##\n",
    "## your code here\n",
    "##\n",
    "\n"
   ]
  },
  {
   "cell_type": "markdown",
   "metadata": {},
   "source": [
    "## Q3 - normalizing the data\n",
    "\n",
    "So, if there are large differences in mean and/or standard deviation between channels or participants, we can implement some standard scaling. First, let think about why this \"standard scaling\" (substracting the mean, dividing by std) is important? You will be combining data from different participants for these exercises. They have been possibly recorded at different days, with different gels or electrodes, and thus with different conductivity between participants. We will assume that the recording across videos within one participant remains stable. So, in order to compare and average the recordings from different participants \"fairly\", we want them to be on more or less the same scale.\n",
    "\n",
    "We can thus attempt to normalize the signal per participant, by dividing all data per participant by its standard deviation. Let's show the extent of the problem by plotting the participants with the lowest and highest std side by side. Re-create your matrix of std values for the evoked period, but:\n",
    "- do not subset one participant, but retain all participants (still only selecting 1 channel)\n",
    "- average the std values for each trace over trials, save in part_std (you will retain one value per participant)\n",
    "- use np.argmax (and variants) to create two indexes, min_std and max_std that point to the participants with the lowest and highest standard deviations\n",
    "- calculate and plot the average over trials for these two participants, using different line colors and proper line labeling. \n",
    "    - Plot them in the first subplot of a 1x2 subplot\n",
    "- Observe the scaling difference\n",
    "\n"
   ]
  },
  {
   "cell_type": "code",
   "execution_count": null,
   "metadata": {},
   "outputs": [],
   "source": [
    "##\n",
    "## your code here\n",
    "##\n",
    "\n",
    "part_std = \n",
    "min_std = \n",
    "max_std = \n",
    "\n",
    "fig_Q3, ax = plt.subplots(figsize=(8,3), ...) # don't forget proper plot annotation\n",
    "..."
   ]
  },
  {
   "cell_type": "markdown",
   "metadata": {},
   "source": [
    "Next, we want to use the standard deviation for each channel to normalize (i.e. divide) the data by this value. \n",
    "- Re-use the standard deviation per participants calculated above\n",
    "- Normalize the evoked matrix (per participant) by the participant std (save as evoked_norm)\n",
    "- plot the **normalized** average over trials for these two participants, using different line colors and proper line labeling. \n",
    "    - Plot them in the second subplot of fig Q3\n",
    "    - The data should now be more or less on the same scale"
   ]
  },
  {
   "cell_type": "code",
   "execution_count": null,
   "metadata": {},
   "outputs": [],
   "source": [
    "##\n",
    "## your code here\n",
    "##\n",
    "\n",
    "evoked_norm = ..."
   ]
  },
  {
   "cell_type": "markdown",
   "metadata": {},
   "source": [
    "We now have to apply this normalization across all channels. The fairest way is to calculate the grand standard deviation per participant (over all their channels, so the relative scaling between channels remains intact). This will normalize the range of the signal within one participants, so that they will be comparable between participants.\n",
    "\n",
    "In order to do this: \n",
    "- first preallocate a normalized matrix with the same size as comb_data, called comb_data_norm.\n",
    "- Next, create a loop to go over Participants, and inside the loop:\n",
    "    - calculate the grand standard deviation per participant \n",
    "    - normalization all values by this grand standard deviation\n",
    "        - Examine the numpy.std documentation to get a single std value across a 3D matrix\n",
    "- Then, recreate the plot with the trial averages as made for the first subplot of fig_Q2\n",
    "    - It should now rather resemble the normalized plot as made in the second subplot\n",
    "- Save this figure as Figure1\n",
    "\n"
   ]
  },
  {
   "cell_type": "code",
   "execution_count": null,
   "metadata": {},
   "outputs": [],
   "source": [
    "##\n",
    "## your code here\n",
    "##\n",
    "\n",
    "comb_data_norm = ...\n",
    "\n",
    "for \n",
    "    ..\n",
    "end\n",
    "\n",
    "\n",
    "fig_Q3, ax = plt.subplots(figsize=(8,3), ...) # 1x1 fig, don't forget proper plot annotation\n",
    "...\n",
    "\n",
    "# save Figure Q3C as your Figure 1 for your report\n",
    "Figure1 = fig_Q3;"
   ]
  },
  {
   "cell_type": "code",
   "execution_count": 6,
   "metadata": {
    "scrolled": true
   },
   "outputs": [],
   "source": [
    "#Here is just gonna be the backups for deleted bits of code"
   ]
  },
  {
   "cell_type": "code",
   "execution_count": 10,
   "metadata": {
    "scrolled": true
   },
   "outputs": [
    {
     "name": "stdout",
     "output_type": "stream",
     "text": [
      "<class 'numpy.ndarray'>\n"
     ]
    },
    {
     "ename": "AttributeError",
     "evalue": "'numpy.ndarray' object has no attribute 'append'",
     "output_type": "error",
     "traceback": [
      "\u001b[1;31m---------------------------------------------------------------------------\u001b[0m",
      "\u001b[1;31mAttributeError\u001b[0m                            Traceback (most recent call last)",
      "\u001b[1;32m<ipython-input-10-c01ba035a802>\u001b[0m in \u001b[0;36m<module>\u001b[1;34m\u001b[0m\n\u001b[0;32m     28\u001b[0m \u001b[1;32mfor\u001b[0m \u001b[0meach_participant\u001b[0m \u001b[1;32min\u001b[0m \u001b[0mrange\u001b[0m\u001b[1;33m(\u001b[0m\u001b[0mnParts\u001b[0m\u001b[1;33m)\u001b[0m\u001b[1;33m:\u001b[0m\u001b[1;33m\u001b[0m\u001b[1;33m\u001b[0m\u001b[0m\n\u001b[0;32m     29\u001b[0m     \u001b[0mEEG\u001b[0m \u001b[1;33m=\u001b[0m \u001b[0mnp\u001b[0m\u001b[1;33m.\u001b[0m\u001b[0mload\u001b[0m\u001b[1;33m(\u001b[0m\u001b[0mos\u001b[0m\u001b[1;33m.\u001b[0m\u001b[0mpath\u001b[0m\u001b[1;33m.\u001b[0m\u001b[0mjoin\u001b[0m\u001b[1;33m(\u001b[0m\u001b[0mpath_control\u001b[0m\u001b[1;33m,\u001b[0m\u001b[0mcontrol_files\u001b[0m\u001b[1;33m[\u001b[0m\u001b[0meach_participant\u001b[0m\u001b[1;33m]\u001b[0m\u001b[1;33m)\u001b[0m\u001b[1;33m)\u001b[0m\u001b[1;33m\u001b[0m\u001b[1;33m\u001b[0m\u001b[0m\n\u001b[1;32m---> 30\u001b[1;33m     \u001b[0mcomb_data\u001b[0m\u001b[1;33m.\u001b[0m\u001b[0mappend\u001b[0m\u001b[1;33m[\u001b[0m\u001b[0mEEG\u001b[0m\u001b[1;33m]\u001b[0m\u001b[1;33m\u001b[0m\u001b[1;33m\u001b[0m\u001b[0m\n\u001b[0m\u001b[0;32m     31\u001b[0m     \u001b[1;33m...\u001b[0m \u001b[1;31m# caution - multiple lines of code might be needed\u001b[0m\u001b[1;33m\u001b[0m\u001b[1;33m\u001b[0m\u001b[0m\n\u001b[0;32m     32\u001b[0m \u001b[1;33m\u001b[0m\u001b[0m\n",
      "\u001b[1;31mAttributeError\u001b[0m: 'numpy.ndarray' object has no attribute 'append'"
     ]
    }
   ],
   "source": [
    "\"\"\" #Just commented this out for the time being but left it incase it's useful for insight\n",
    "# There are 64 or 65 channels in the dataset. Only channels up to channel 59 are EEG channels\n",
    "# the remaining channels are EMG and EOG channels that we will ignore in this analysis\n",
    "# subset your EEG array so that only the EEG channels remain\n",
    "\n",
    "EEG = EEG[:, 0:59]\n",
    "np.shape(EEG)\n",
    "\n",
    "# Define nTrials, nChan, nSamples and nPart. Then, pre-allocate a matrix\n",
    "# named comb_data, filled with zeros and with size nTrials, nChans x nSamples x nParticipants\n",
    "\n",
    "nTrials = 22\n",
    "nChans = 59 # number of channels\n",
    "nSamples = 751 #time samples?\n",
    "nParts = 22 # number of participants\n",
    "\n",
    "comb_data = np.zeros((nTrials, nChans, nSamples, nParts))\n",
    "np.shape(comb_data)\n",
    "\n",
    "# next, we need to loop over all participant datafiles and add them to the appropriate slice in your 4-D array\n",
    "# For this, you need to use specific array indexing to indicate where in comb_data each participant's data\n",
    "# needs to go. You can and should reuse the data-reading code above.\n",
    "\n",
    "# loop over participants, and wihtin each iteration of the loop, load the\n",
    "# next datafile and fill comb_data with the EEG traces (nTrials x nChans x nSamples)\n",
    "\n",
    "print(type(comb_data))\n",
    "\n",
    "for each_participant in range(nParts):\n",
    "    EEG = np.load(os.path.join(path_control,control_files[each_participant]))   \n",
    "    comb_data.append[EEG]\n",
    "    ... # caution - multiple lines of code might be needed\n",
    "\n",
    "    \n",
    "#EXAMPLE FROM LECTURE 1 FOR FILLING IN ZERO MATRIX IN 2D\n",
    "    \n",
    "#freq_mat = np.zeros((3,1000))\n",
    "\n",
    "#freqs = np.array([2,5,7])\n",
    "#thetas = np.array([0.5, 1, 1.5])*np.pi\n",
    "\n",
    "#for iMat in range(freq_mat.shape[0]):\n",
    "#    freq_mat[iMat,:] = np.sin(2*np.pi*freqs[iMat]*time + thetas[iMat])\n",
    "\"\"\""
   ]
  }
 ],
 "metadata": {
  "kernelspec": {
   "display_name": "Python 3",
   "language": "python",
   "name": "python3"
  },
  "language_info": {
   "codemirror_mode": {
    "name": "ipython",
    "version": 3
   },
   "file_extension": ".py",
   "mimetype": "text/x-python",
   "name": "python",
   "nbconvert_exporter": "python",
   "pygments_lexer": "ipython3",
   "version": "3.7.4"
  }
 },
 "nbformat": 4,
 "nbformat_minor": 5
}
